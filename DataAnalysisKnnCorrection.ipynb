{
 "cells": [
  {
   "cell_type": "markdown",
   "metadata": {},
   "source": [
    "# K-nearest neighbours"
   ]
  },
  {
   "cell_type": "markdown",
   "metadata": {},
   "source": [
    "## Correction"
   ]
  },
  {
   "cell_type": "markdown",
   "metadata": {},
   "source": [
    "#### A vous !\n",
    "\n",
    "Prenez le code précédent, et essayez de l'adapter à ces données. \n",
    "\n",
    "En l'appliquant à un nouveau problème, vous pouvez obtenir des résultats très satisfaisants.\n",
    "\n",
    "Les données sont des fausses données qui représentent la longueur de pas moyenne d'hommes et de femmes, ainsi que la fréquence moyenne de ces pas.\n",
    "\n",
    "Sur une première base de données, pour chaque donnée vous savez s'il s'agit d'un homme ou d'une femme. Grâce à ce jeu de données, vous pouvez construire un classifieur selon la méthode présentée au-dessus.\n",
    "\n",
    "L'objectif est de prédire le genre sur un jeu de données où cette information n'est pas présente; pour chauqe individu, seules la longueur et la fréquence sont présentes. \n",
    "\n",
    "Ces sets de données sont dans des csv :\n",
    "\n",
    "- la première base de données est dans : **gender_classification.csv**\n",
    "- la seconde base de données sans le genre de la personne est dans : **gender_classification_test_data.csv**\n",
    "\n",
    "Enfin, pour vérifier si votre algorithme est bon, vous pouvez comparer votre prédiction au vrai résultat qui se trouve dans le fichier : **gender_classification_test_outcome.csv**\n",
    "\n",
    "Bonus : créer une fonction qui vous retourne le taux de bonne classification."
   ]
  },
  {
   "cell_type": "markdown",
   "metadata": {},
   "source": [
    "#### import d'une base de données"
   ]
  },
  {
   "cell_type": "code",
   "execution_count": 2,
   "metadata": {
    "collapsed": true
   },
   "outputs": [],
   "source": [
    "from numpy import genfromtxt\n",
    "import numpy as np\n",
    "from sklearn import neighbors, datasets\n",
    "\n",
    "my_data = genfromtxt('gender_classification.csv', delimiter=',')"
   ]
  },
  {
   "cell_type": "code",
   "execution_count": 3,
   "metadata": {
    "collapsed": true
   },
   "outputs": [],
   "source": [
    "X = my_data[:, 1:]  \n",
    "X[:,1] /= np.std(X[:,1])\n",
    "X[:,0] /= np.std(X[:,0])\n",
    "y = my_data[:, 0]  "
   ]
  },
  {
   "cell_type": "markdown",
   "metadata": {},
   "source": [
    "On initialise un objet **clf** de type `class neighbors.KNeighborsClassifier()`\n",
    "\n",
    "Voir http://scikit-learn.org/stable/modules/generated/sklearn.neighbors.NearestNeighbors.html"
   ]
  },
  {
   "cell_type": "code",
   "execution_count": 4,
   "metadata": {
    "collapsed": true
   },
   "outputs": [],
   "source": [
    "clf = neighbors.KNeighborsClassifier(10, weights='uniform')"
   ]
  },
  {
   "cell_type": "markdown",
   "metadata": {},
   "source": [
    "On appelle la méthode `.fit()` de la `class neighbors.KNeighborsClassifier()` pour entraîner le classifieur sur les variables explicatves `X` et l'outcome `y`.\n",
    "\n",
    "Pas besoin de stocker ce classifieur dans une variable. Le classifieur est stocké dans l'objet `clf`.\n",
    "\n",
    "Voir https://github.com/scikit-learn/scikit-learn/blob/412996f/sklearn/neighbors/base.py#L790"
   ]
  },
  {
   "cell_type": "code",
   "execution_count": 5,
   "metadata": {
    "collapsed": false,
    "scrolled": true
   },
   "outputs": [
    {
     "data": {
      "text/plain": [
       "KNeighborsClassifier(algorithm='auto', leaf_size=30, metric='minkowski',\n",
       "           metric_params=None, n_jobs=1, n_neighbors=10, p=2,\n",
       "           weights='uniform')"
      ]
     },
     "execution_count": 5,
     "metadata": {},
     "output_type": "execute_result"
    }
   ],
   "source": [
    "clf.fit(X, y)"
   ]
  },
  {
   "cell_type": "markdown",
   "metadata": {},
   "source": [
    "Une fois cela fait, utiliser la méthode `.predict()` de la `class neighbors.KNeighborsClassifier()` via l'objet `clf`, sur le jeu de données test.\n",
    "\n",
    "Bien noter qu'on renormalise les données, on a normaliser pour apprendre, donc il faut normaliser pour prédire."
   ]
  },
  {
   "cell_type": "code",
   "execution_count": 6,
   "metadata": {
    "collapsed": false
   },
   "outputs": [],
   "source": [
    "my_data_predict = genfromtxt('gender_classification_test_data.csv', delimiter=',')\n",
    "my_data_predict[:,0] /= np.std(my_data_predict[:,0])\n",
    "my_data_predict[:,1] /= np.std(my_data_predict[:,1])\n",
    "Z = clf.predict(my_data_predict)"
   ]
  },
  {
   "cell_type": "markdown",
   "metadata": {},
   "source": [
    "#### Mes prédictions"
   ]
  },
  {
   "cell_type": "code",
   "execution_count": 7,
   "metadata": {
    "collapsed": false,
    "scrolled": true
   },
   "outputs": [
    {
     "name": "stdout",
     "output_type": "stream",
     "text": [
      "[ 0.  0.  0.  1.  0.  0.  0.  0.  0.  1.  0.  1.  0.  0.  0.  0.  0.  0.\n",
      "  0.  1.  1.  0.  1.  0.  0.  1.  0.  0.  1.  0.  0.  0.  1.  1.  0.  0.\n",
      "  0.  0.  1.  1.  0.  0.  0.  0.  0.  0.  0.  0.  1.  0.]\n"
     ]
    }
   ],
   "source": [
    "print(Z)"
   ]
  },
  {
   "cell_type": "markdown",
   "metadata": {},
   "source": [
    "#### Sont-elles valides ?\n",
    "\n",
    "Les comparer avec l'outcome test."
   ]
  },
  {
   "cell_type": "code",
   "execution_count": 10,
   "metadata": {
    "collapsed": false
   },
   "outputs": [
    {
     "data": {
      "text/plain": [
       "array([ 0.,  0.,  1.,  1.,  0.,  0.,  0.,  0.,  1.,  1.,  0.,  1.,  1.,\n",
       "        1.,  0.,  0.,  1.,  0.,  0.,  1.,  1.,  0.,  1.,  0.,  0.,  1.,\n",
       "        1.,  0.,  1.,  0.,  0.,  1.,  1.,  1.,  0.,  0.,  1.,  0.,  1.,\n",
       "        1.,  0.,  0.,  0.,  0.,  0.,  1.,  0.,  0.,  1.,  0.])"
      ]
     },
     "execution_count": 10,
     "metadata": {},
     "output_type": "execute_result"
    }
   ],
   "source": [
    "res = genfromtxt('gender_classification_test_outcome.csv', delimiter=',')\n",
    "res"
   ]
  },
  {
   "cell_type": "code",
   "execution_count": 11,
   "metadata": {
    "collapsed": false,
    "scrolled": true
   },
   "outputs": [
    {
     "data": {
      "text/plain": [
       "array([ 0.,  0.,  1.,  0.,  0.,  0.,  0.,  0.,  1.,  0.,  0.,  0.,  1.,\n",
       "        1.,  0.,  0.,  1.,  0.,  0.,  0.,  0.,  0.,  0.,  0.,  0.,  0.,\n",
       "        1.,  0.,  0.,  0.,  0.,  1.,  0.,  0.,  0.,  0.,  1.,  0.,  0.,\n",
       "        0.,  0.,  0.,  0.,  0.,  0.,  1.,  0.,  0.,  0.,  0.])"
      ]
     },
     "execution_count": 11,
     "metadata": {},
     "output_type": "execute_result"
    }
   ],
   "source": [
    "res - Z"
   ]
  },
  {
   "cell_type": "markdown",
   "metadata": {},
   "source": [
    "Petite fonction de perte qui permet de savoir quel est le taux d'erreur"
   ]
  },
  {
   "cell_type": "code",
   "execution_count": 13,
   "metadata": {
    "collapsed": false
   },
   "outputs": [
    {
     "data": {
      "text/plain": [
       "0.17999999999999999"
      ]
     },
     "execution_count": 13,
     "metadata": {},
     "output_type": "execute_result"
    }
   ],
   "source": [
    "np.mean(np.abs(res-Z))"
   ]
  }
 ],
 "metadata": {
  "anaconda-cloud": {},
  "kernelspec": {
   "display_name": "Python [conda env:python3]",
   "language": "python",
   "name": "conda-env-python3-py"
  },
  "language_info": {
   "codemirror_mode": {
    "name": "ipython",
    "version": 3
   },
   "file_extension": ".py",
   "mimetype": "text/x-python",
   "name": "python",
   "nbconvert_exporter": "python",
   "pygments_lexer": "ipython3",
   "version": "3.5.2"
  }
 },
 "nbformat": 4,
 "nbformat_minor": 1
}
